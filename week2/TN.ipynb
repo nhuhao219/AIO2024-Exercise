{
 "cells": [
  {
   "cell_type": "code",
   "execution_count": null,
   "id": "16437363-9b31-414a-ad0d-6bfc5769a300",
   "metadata": {},
   "outputs": [],
   "source": [
    "# bai5\n",
    "def check_the_number(N):\n",
    "    list_of_numbers = []\n",
    "    result = \"\"\n",
    "    for i in range(1, 5):\n",
    "        list"
   ]
  }
 ],
 "metadata": {
  "kernelspec": {
   "display_name": "Python 3 (ipykernel)",
   "language": "python",
   "name": "python3"
  },
  "language_info": {
   "codemirror_mode": {
    "name": "ipython",
    "version": 3
   },
   "file_extension": ".py",
   "mimetype": "text/x-python",
   "name": "python",
   "nbconvert_exporter": "python",
   "pygments_lexer": "ipython3",
   "version": "3.8.10"
  }
 },
 "nbformat": 4,
 "nbformat_minor": 5
}
