{
 "cells": [
  {
   "cell_type": "markdown",
   "id": "527e3767-aac2-4364-b414-19904a4db674",
   "metadata": {},
   "source": [
    "**Image Processing**"
   ]
  },
  {
   "cell_type": "code",
   "execution_count": 26,
   "id": "fa37ab13-d07d-400b-9d39-b407b9a19561",
   "metadata": {},
   "outputs": [
    {
     "name": "stderr",
     "output_type": "stream",
     "text": [
      "/tmp/ipykernel_15651/3731867892.py:5: RuntimeWarning: overflow encountered in scalar add\n",
      "  return (img.max() + img.min())/2\n"
     ]
    },
    {
     "name": "stdout",
     "output_type": "stream",
     "text": [
      "102.5\n",
      "107.66666666666667\n",
      "126.22999999999999\n"
     ]
    }
   ],
   "source": [
    "import numpy as np\n",
    "import matplotlib.image as mpimg\n",
    "\n",
    "def grayscale_lightness(img):\n",
    "    return (img.max() + img.min())/2\n",
    "\n",
    "def grayscale_average(img):\n",
    "    return img.sum() / 3\n",
    "\n",
    "def grayscale_leminosity(img):\n",
    "    return 0.21 * img[0] + 0.72 * img[1] + 0.07 * img[2]\n",
    "\n",
    "img = mpimg.imread(\"dog.jpeg\")\n",
    "\n",
    "gray_img_01 = np.apply_along_axis(grayscale_lightness, arr=img, axis=2)\n",
    "print(gray_img_01[0, 0])\n",
    "\n",
    "gray_img_02 = np.apply_along_axis(grayscale_average, arr=img, axis=2)\n",
    "print(gray_img_02[0, 0])\n",
    "\n",
    "gray_img_03 = np.apply_along_axis(grayscale_leminosity, arr=img, axis=2)\n",
    "print(gray_img_03[0, 0])"
   ]
  },
  {
   "cell_type": "markdown",
   "id": "f3939919-0054-4b80-814e-889951ad526c",
   "metadata": {},
   "source": [
    "**Tabular Data Analysis**"
   ]
  },
  {
   "cell_type": "code",
   "execution_count": 27,
   "id": "f95c64c4-1416-4824-834e-ac4dc50616a0",
   "metadata": {},
   "outputs": [
    {
     "name": "stdout",
     "output_type": "stream",
     "text": [
      "Max: 27.0 - Index: 175\n",
      "147.0425\n",
      "40\n",
      "26.22293577981651\n",
      "1405.1\n",
      "['Bad' 'Bad' 'Good']\n",
      "['Bad' 'Bad' 'Good']\n"
     ]
    }
   ],
   "source": [
    "import numpy as np\n",
    "import pandas as pd\n",
    "\n",
    "# Cau hoi 15\n",
    "data = pd.read_csv(\"advertising.csv\").to_numpy()\n",
    "Sales = data[:, 3]\n",
    "print(f\"Max: {np.max(Sales)} - Index: {np.argmax(Sales)}\")\n",
    "\n",
    "# Cau hoi 16\n",
    "TV = data[:, 0]\n",
    "print(np.mean(TV))\n",
    "\n",
    "# Cau hoi 17\n",
    "data2 = np.where(Sales >= 20, True, False)\n",
    "result = data2.sum()\n",
    "print(result)\n",
    "\n",
    "# Cau hoi 18\n",
    "data3 = data[data[:, 3] >= 15]\n",
    "radio_cond = data3[:, 1]\n",
    "print(radio_cond.mean())\n",
    "\n",
    "# Cau hoi 19\n",
    "data4 = data[data[:, 2] > data[:, 2].mean()]\n",
    "print(np.sum(data4[:, 3]))\n",
    "\n",
    "# Cau hoi 20\n",
    "Sales = data[:, 3]\n",
    "Sales_mean = Sales.mean()\n",
    "scores = np.where(Sales < Sales_mean, \"Bad\", np.where(Sales > Sales_mean, \"Good\", \"Average\"))\n",
    "print(scores[7:10])\n",
    "\n",
    "# Cau hoi 21\n",
    "Sales_cond = np.abs(Sales - Sales_mean)\n",
    "index = np.argmin(Sales_cond)\n",
    "A = Sales[index]\n",
    "scores1 = np.where(Sales < A, \"Bad\", np.where(Sales > A, \"Good\", \"Average\"))\n",
    "print(scores1[7:10])"
   ]
  }
 ],
 "metadata": {
  "kernelspec": {
   "display_name": "Python (AIO)",
   "language": "python",
   "name": "aio"
  },
  "language_info": {
   "codemirror_mode": {
    "name": "ipython",
    "version": 3
   },
   "file_extension": ".py",
   "mimetype": "text/x-python",
   "name": "python",
   "nbconvert_exporter": "python",
   "pygments_lexer": "ipython3",
   "version": "3.12.4"
  }
 },
 "nbformat": 4,
 "nbformat_minor": 5
}
